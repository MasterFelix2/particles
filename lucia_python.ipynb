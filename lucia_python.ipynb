{
 "cells": [
  {
   "cell_type": "markdown",
   "id": "e91af816",
   "metadata": {},
   "source": [
    "To be honest, I don't think this code is working really well, because the simulations look very weird... (you can find them in the folder gifs_lucia)"
   ]
  },
  {
   "cell_type": "code",
   "execution_count": 1,
   "id": "2a0ba82b",
   "metadata": {},
   "outputs": [],
   "source": [
    "import numpy as np\n",
    "import matplotlib.pyplot as plt\n",
    "import imageio"
   ]
  },
  {
   "cell_type": "code",
   "execution_count": 2,
   "id": "ceecc92c",
   "metadata": {},
   "outputs": [],
   "source": [
    "it = 0"
   ]
  },
  {
   "cell_type": "code",
   "execution_count": 27,
   "id": "87eb91f6",
   "metadata": {},
   "outputs": [],
   "source": [
    "it += 1\n",
    "N = 50\n",
    "timesteps = 500 # 50 seconds\n",
    "boundaries = 100\n",
    "\n",
    "#parameters are: zor, zoo, zoa, alpha, theta, s, sigma, tau\n",
    "params = [20, 20, 30, 300, 50, 3, 5, 0.1]\n",
    "params_string = f'it={it}, zor={params[0]}, zoo={params[1]}, zoa={params[2]}, alpha={params[3]}, theta={params[4]}, s={params[5]}, sigma={params[6]}, tau={params[7]}'\n",
    "\n",
    "init = np.random.rand(N, 4)"
   ]
  },
  {
   "cell_type": "code",
   "execution_count": 28,
   "id": "606700b1",
   "metadata": {},
   "outputs": [],
   "source": [
    "def r_ij(arr, i, j):\n",
    "    '''returns unit vector from individual i in direction of individual j'''\n",
    "    diff = arr[j, :2]-arr[i, :2]\n",
    "    return diff/np.linalg.norm(diff)\n",
    "\n",
    "def ZOR(arr, i, params, boundaries, check_speed=True):\n",
    "    if check_speed:\n",
    "        s = params[5]\n",
    "        tau = params[7]\n",
    "        r_r = params[0]\n",
    "        assert s*tau<r_r\n",
    "    l = []\n",
    "    for j in range(N):\n",
    "        if j != i:\n",
    "            diff = arr[j, :2]-arr[i, :2]\n",
    "            if boundaries[0]<=np.linalg.norm(diff)<boundaries[1]: # make sure that fish is inside zor\n",
    "                R = r_ij(arr, i, j)/np.linalg.norm(r_ij(arr, i, j))\n",
    "                l.append(R)\n",
    "    s = -sum(l)\n",
    "    return s/np.linalg.norm(s), len(l)\n",
    "    \n",
    "def ZOO(arr, i, params):\n",
    "    r_r = params[0]\n",
    "    r_o = params[1]\n",
    "    l = []\n",
    "    for j in range(N):\n",
    "        diff = arr[j, -2:]-arr[i, -2:]\n",
    "        if r_r<=np.linalg.norm(diff)<r_o: # make sure that fish is inside zoo\n",
    "            R = arr[j, -2:]/np.linalg.norm(arr[j, -2:])\n",
    "            l.append(R)\n",
    "    s = sum(l)\n",
    "    return s/np.linalg.norm(s), len(l)\n",
    "\n",
    "def ZOA(arr, i, params, boundaries, check_speed=False):\n",
    "    return -ZOR(arr, i, params, boundaries)[0], ZOR(arr, i, params, boundaries)[1]\n",
    "    "
   ]
  },
  {
   "cell_type": "code",
   "execution_count": null,
   "id": "0b608c7f",
   "metadata": {},
   "outputs": [],
   "source": []
  },
  {
   "cell_type": "code",
   "execution_count": 29,
   "id": "645f704b",
   "metadata": {},
   "outputs": [
    {
     "name": "stderr",
     "output_type": "stream",
     "text": [
      "/usr/local/lib/python3.7/site-packages/ipykernel_launcher.py:32: RuntimeWarning: invalid value encountered in double_scalars\n",
      "/usr/local/lib/python3.7/site-packages/ipykernel_launcher.py:20: RuntimeWarning: invalid value encountered in double_scalars\n"
     ]
    }
   ],
   "source": [
    "arr = init\n",
    "arrays = []\n",
    "for timestep in range(timesteps):\n",
    "    arr_new = arr.copy()\n",
    "    for i in range(N):\n",
    "        zor, n_r = ZOR(arr, i, params, (0, params[0]))\n",
    "        zoo, n_o = ZOO(arr, i, params)\n",
    "        zoa, n_a = ZOA(arr, i, params, (params[1], params[2]))\n",
    "\n",
    "        if n_r>0:\n",
    "            vel = zor\n",
    "\n",
    "        elif n_o>0:\n",
    "            if n_a==0:\n",
    "                vel = zoo\n",
    "            else:\n",
    "                vel = (1/2)*(zoo+zoa)\n",
    "\n",
    "        elif n_a>0:\n",
    "            if n_o==0:\n",
    "                vel = zoa\n",
    "            else:\n",
    "                vel = (1/2)*(zoo+zoa)\n",
    "\n",
    "        if vel.all()==0:\n",
    "            vel = arr[i, -2:]\n",
    "        \n",
    "        # periodic boundary conditions \n",
    "        if abs(arr[i, 0]) >= boundaries or abs(arr[i, 1]) >= boundaries:\n",
    "            arr[i, 0] = -arr[i, 0]\n",
    "            arr[i, 1] = -arr[i, 1]\n",
    "\n",
    "        arr_new[i] = [arr[i, 0]+arr[i, 2], arr[i, 1]+arr[i, 3], vel[0], vel[1]]\n",
    "    \n",
    "    arrays.append(arr_new)\n",
    "    arr = arr_new\n",
    "    "
   ]
  },
  {
   "cell_type": "code",
   "execution_count": 30,
   "id": "314a239c",
   "metadata": {
    "scrolled": true
   },
   "outputs": [
    {
     "data": {
      "text/plain": [
       "array([[-1.60238266, -0.04241585, -0.87785895, -0.47891927],\n",
       "       [ 2.15332222, -1.16577858,  0.59001853, -0.8073897 ],\n",
       "       [ 2.76469695,  0.4449793 ,  0.99582262,  0.09130889],\n",
       "       [-0.40568423, -0.02994947, -0.24588455, -0.96929912],\n",
       "       [-1.28816755, -0.91774196, -0.75162763, -0.65958768],\n",
       "       [ 2.38709394, -0.57747078,  0.54710559, -0.8370636 ],\n",
       "       [-1.44197165,  0.02281527, -0.98894371, -0.14829142],\n",
       "       [ 0.55975744,  3.08106825, -0.44513185,  0.89546504],\n",
       "       [-0.76577823,  1.95151154, -0.56417747,  0.82565355],\n",
       "       [ 3.31950853,  1.44362662,  0.99881637, -0.04864018],\n",
       "       [ 2.3266242 , -1.51743568,  0.44510062, -0.89548056],\n",
       "       [ 2.73338982,  3.57910466,  0.5921763 ,  0.80580843],\n",
       "       [ 2.08897067,  3.06282591,  0.63189027,  0.77505786],\n",
       "       [-0.26857601, -1.44258011, -0.49515442, -0.86880498],\n",
       "       [ 1.98151831,  0.12746177,  0.11935943, -0.99285111],\n",
       "       [ 0.61762614,  2.26231841,  0.64647405,  0.76293598],\n",
       "       [ 3.55099373, -0.32006111,  0.89152379, -0.45297387],\n",
       "       [-1.56289896, -0.35773549, -0.90598127, -0.42331777],\n",
       "       [-0.11796705,  1.18328392, -0.57551212, -0.81779325],\n",
       "       [-0.71298198, -0.4495962 , -0.53423062, -0.84533877],\n",
       "       [-1.06451583,  2.25958834, -0.84542785,  0.53408965],\n",
       "       [-0.98481367, -0.3430611 , -0.78352003, -0.62136652],\n",
       "       [-0.73691517,  2.78614362, -0.76858761,  0.63974454],\n",
       "       [ 1.48694437,  0.85728092,  0.43041076,  0.90263314],\n",
       "       [-1.60805362,  0.06668125, -0.92101405, -0.38952935],\n",
       "       [ 0.04577762,  3.33745619, -0.26423408,  0.96445858],\n",
       "       [ 2.98338762,  1.60348713,  0.88259243,  0.47013893],\n",
       "       [-0.89864765, -0.14786676, -0.97663656, -0.21489773],\n",
       "       [ 3.6558929 ,  1.99159822,  0.90805994,  0.41884025],\n",
       "       [-1.42738426,  2.15739638, -0.85623012,  0.51659461],\n",
       "       [ 2.18955548, -1.26199753,  0.44323251, -0.89640669],\n",
       "       [ 1.37957937,  3.16586983, -0.12210092,  0.99251769],\n",
       "       [ 3.71761694,  1.79211905,  0.96667134,  0.25602053],\n",
       "       [ 0.83524362,  3.28542895,  0.13520863,  0.99081715],\n",
       "       [ 3.487258  ,  0.99684149,  0.99559889,  0.09371689],\n",
       "       [ 0.43610371, -1.71696252, -0.07837776, -0.99692373],\n",
       "       [ 3.31069931, -0.90072014,  0.78685443, -0.61713865],\n",
       "       [ 0.75294691,  1.30087126, -0.70977034, -0.70443315],\n",
       "       [-0.86224268,  2.90682088, -0.65957871,  0.7516355 ],\n",
       "       [-1.44497395,  1.80235183, -0.98202755,  0.18873762],\n",
       "       [ 3.16411435,  0.03084428,  0.86762996, -0.49721046],\n",
       "       [-0.70169842,  2.93488424, -0.71461852,  0.69951438],\n",
       "       [ 2.78281613, -1.25277678,  0.68754745, -0.72613945],\n",
       "       [ 2.15593342,  3.61103521,  0.47256376,  0.88129649],\n",
       "       [ 3.21817663,  2.85407835,  0.79513254,  0.60643569],\n",
       "       [ 0.25831147, -1.55242773, -0.14823834, -0.98895166],\n",
       "       [ 2.44554844,  0.25975112,  0.55473309, -0.83202836],\n",
       "       [ 1.62039434,  3.42051625,  0.22022834,  0.97544835],\n",
       "       [ 1.03817996,  3.53324999,  0.09593279,  0.99538781],\n",
       "       [-1.21913512,  2.52191345, -0.8756518 ,  0.48294299]])"
      ]
     },
     "execution_count": 30,
     "metadata": {},
     "output_type": "execute_result"
    }
   ],
   "source": [
    "arrays[2]"
   ]
  },
  {
   "cell_type": "code",
   "execution_count": 31,
   "id": "2e87afb4",
   "metadata": {},
   "outputs": [],
   "source": [
    "png_list = []\n",
    "for i in range(timesteps):\n",
    "    x = arrays[i][:, 0] \n",
    "    y = arrays[i][:, 1]\n",
    "    u = arrays[i][:, 2]\n",
    "    v = arrays[i][:, 3]\n",
    "    fig = plt.figure(figsize=(10, 10))\n",
    "    plt.quiver(x, y, u, v) # https://matplotlib.org/stable/api/_as_gen/matplotlib.pyplot.quiver.html\n",
    "    plt.xlim(-boundaries, boundaries)\n",
    "    plt.ylim(-boundaries, boundaries)\n",
    "    plt.savefig(f'plots_lucia/{i}.png')\n",
    "    png_list.append(f'plots_lucia/{i}.png')\n",
    "    plt.close()\n"
   ]
  },
  {
   "cell_type": "code",
   "execution_count": 32,
   "id": "f30822fe",
   "metadata": {},
   "outputs": [],
   "source": [
    "with imageio.get_writer('gifs_lucia/'+params_string+'.gif', mode='I') as writer:\n",
    "    for filename in png_list:\n",
    "        image = imageio.imread(filename)\n",
    "        writer.append_data(image)"
   ]
  },
  {
   "cell_type": "code",
   "execution_count": null,
   "id": "45be63fe",
   "metadata": {},
   "outputs": [],
   "source": []
  },
  {
   "cell_type": "code",
   "execution_count": null,
   "id": "197f08ba",
   "metadata": {},
   "outputs": [],
   "source": []
  },
  {
   "cell_type": "code",
   "execution_count": null,
   "id": "4df41028",
   "metadata": {},
   "outputs": [],
   "source": []
  },
  {
   "cell_type": "code",
   "execution_count": null,
   "id": "0ee71b69",
   "metadata": {},
   "outputs": [],
   "source": []
  },
  {
   "cell_type": "code",
   "execution_count": null,
   "id": "0ed6873f",
   "metadata": {},
   "outputs": [],
   "source": []
  },
  {
   "cell_type": "code",
   "execution_count": null,
   "id": "2cc802ac",
   "metadata": {},
   "outputs": [],
   "source": []
  }
 ],
 "metadata": {
  "@webio": {
   "lastCommId": null,
   "lastKernelId": null
  },
  "kernelspec": {
   "display_name": "Python 3 (ipykernel)",
   "language": "python",
   "name": "python3"
  },
  "language_info": {
   "codemirror_mode": {
    "name": "ipython",
    "version": 3
   },
   "file_extension": ".py",
   "mimetype": "text/x-python",
   "name": "python",
   "nbconvert_exporter": "python",
   "pygments_lexer": "ipython3",
   "version": "3.7.10"
  }
 },
 "nbformat": 4,
 "nbformat_minor": 5
}
